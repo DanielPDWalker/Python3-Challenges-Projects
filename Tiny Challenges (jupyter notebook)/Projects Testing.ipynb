{
 "cells": [
  {
   "cell_type": "markdown",
   "metadata": {},
   "source": [
    "# Contents"
   ]
  },
  {
   "cell_type": "markdown",
   "metadata": {},
   "source": [
    "1) Reversing a string  \n",
    "2) Fizz Buzz"
   ]
  },
  {
   "cell_type": "markdown",
   "metadata": {},
   "source": [
    "### 1) Reversing a string"
   ]
  },
  {
   "cell_type": "code",
   "execution_count": 3,
   "metadata": {},
   "outputs": [
    {
     "data": {
      "text/plain": [
       "'esrever ot gnirts tseT'"
      ]
     },
     "execution_count": 3,
     "metadata": {},
     "output_type": "execute_result"
    }
   ],
   "source": [
    "string = 'Test string to reverse'\n",
    "\n",
    "def reverse(str1):\n",
    "    \n",
    "    list1 = []\n",
    "    list2 = []\n",
    "    \n",
    "    for i in str1:\n",
    "        list1.append(i)\n",
    "    for i in reversed(list1):\n",
    "        list2.append(i)\n",
    "    return ''.join(list2)\n",
    "        \n",
    "reverse(string)        \n",
    "        "
   ]
  },
  {
   "cell_type": "code",
   "execution_count": 2,
   "metadata": {},
   "outputs": [
    {
     "data": {
      "text/plain": [
       "'owt gnirts tseT'"
      ]
     },
     "execution_count": 2,
     "metadata": {},
     "output_type": "execute_result"
    }
   ],
   "source": [
    "string2 = 'Test string two'\n",
    "string2[::-1]"
   ]
  },
  {
   "cell_type": "markdown",
   "metadata": {},
   "source": [
    "### 2) Fizz Buzz"
   ]
  },
  {
   "cell_type": "code",
   "execution_count": 10,
   "metadata": {},
   "outputs": [
    {
     "name": "stdout",
     "output_type": "stream",
     "text": [
      "[1, 2, 'Fizz', 3, 4, 'Buzz', 'Fizz', 6, 7, 8, 'Fizz', 9, 'Buzz', 11, 'Fizz', 12, 13, 14, 'FizzBuzz', 'Fizz', 'Buzz', 16, 17, 'Fizz', 18, 19, 'Buzz', 'Fizz', 21, 22, 23, 'Fizz', 24, 'Buzz', 26, 'Fizz', 27, 28, 29, 'FizzBuzz', 'Fizz', 'Buzz', 31, 32, 'Fizz', 33, 34, 'Buzz', 'Fizz', 36, 37, 38, 'Fizz', 39, 'Buzz', 41, 'Fizz', 42, 43, 44, 'FizzBuzz', 'Fizz', 'Buzz', 46, 47, 'Fizz', 48, 49, 'Buzz']\n"
     ]
    }
   ],
   "source": [
    "list1 = []\n",
    "\n",
    "for i in range(1,51):\n",
    "    if i%3 == 0 and i%5 == 0:\n",
    "        list1.append('FizzBuzz')\n",
    "    if i%3 == 0:\n",
    "        list1.append('Fizz')\n",
    "    if i%5 == 0:\n",
    "        list1.append('Buzz')\n",
    "    else:\n",
    "        list1.append(i)\n",
    "\n",
    "print(list1)"
   ]
  },
  {
   "cell_type": "code",
   "execution_count": null,
   "metadata": {},
   "outputs": [],
   "source": []
  }
 ],
 "metadata": {
  "kernelspec": {
   "display_name": "Python 3",
   "language": "python",
   "name": "python3"
  },
  "language_info": {
   "codemirror_mode": {
    "name": "ipython",
    "version": 3
   },
   "file_extension": ".py",
   "mimetype": "text/x-python",
   "name": "python",
   "nbconvert_exporter": "python",
   "pygments_lexer": "ipython3",
   "version": "3.6.3"
  }
 },
 "nbformat": 4,
 "nbformat_minor": 2
}
